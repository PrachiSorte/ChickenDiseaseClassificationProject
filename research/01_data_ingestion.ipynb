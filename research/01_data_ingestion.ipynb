{
 "cells": [
  {
   "cell_type": "code",
   "execution_count": 1,
   "id": "786d9512",
   "metadata": {},
   "outputs": [],
   "source": [
    "import os"
   ]
  },
  {
   "cell_type": "code",
   "execution_count": 2,
   "id": "2bd42fc5",
   "metadata": {},
   "outputs": [
    {
     "data": {
      "text/plain": [
       "'e:\\\\ChickenDiseaseClassificationProject\\\\research'"
      ]
     },
     "execution_count": 2,
     "metadata": {},
     "output_type": "execute_result"
    }
   ],
   "source": [
    "%pwd"
   ]
  },
  {
   "cell_type": "code",
   "execution_count": null,
   "id": "2956c8ec",
   "metadata": {},
   "outputs": [],
   "source": [
    "os.chdir(\"../\")    # change to root directory of the project"
   ]
  },
  {
   "cell_type": "code",
   "execution_count": 4,
   "id": "e85e8cb4",
   "metadata": {},
   "outputs": [
    {
     "data": {
      "text/plain": [
       "'e:\\\\ChickenDiseaseClassificationProject'"
      ]
     },
     "execution_count": 4,
     "metadata": {},
     "output_type": "execute_result"
    }
   ],
   "source": [
    "%pwd"
   ]
  },
  {
   "cell_type": "code",
   "execution_count": 17,
   "id": "f17f1dee",
   "metadata": {},
   "outputs": [],
   "source": [
    "from dataclasses import dataclass\n",
    "from pathlib import Path\n",
    "\n",
    "#Defining entity or configuration class\n",
    "@dataclass(frozen=True)\n",
    "class DataIngestionConfig:\n",
    "    root_dir: Path             # All these values are taken from the config.yaml file\n",
    "    source_url: str\n",
    "    local_data_file: Path\n",
    "    unzip_dir: Path\n",
    "\n"
   ]
  },
  {
   "cell_type": "code",
   "execution_count": 18,
   "id": "211cf8db",
   "metadata": {},
   "outputs": [],
   "source": [
    "from CNNClassifier.constants import *\n",
    "from CNNClassifier.utils.common import read_yaml, create_directories   "
   ]
  },
  {
   "cell_type": "code",
   "execution_count": null,
   "id": "c7cbc4f9",
   "metadata": {},
   "outputs": [],
   "source": [
    "class ConfigurationManager:\n",
    "    def __init__(self, config_file_path=CONFIG_FILE_PATH, params_file_path=PARAMS_FILE_PATH):\n",
    "        self.config = read_yaml(config_file_path)\n",
    "        print(self.config)\n",
    "        self.params = read_yaml(params_file_path)\n",
    "        print(self.params)\n",
    "        create_directories([self.config.artifacts_root])\n",
    "\n",
    "    def get_data_ingestion_config(self) -> DataIngestionConfig:\n",
    "        config = self.config.data_ingestion\n",
    "        create_directories([config.root_dir])\n",
    "        \n",
    "        data_ingestion_config = DataIngestionConfig(\n",
    "            root_dir=Path(config.root_dir),\n",
    "            source_url=config.source_url,\n",
    "            local_data_file=Path(config.local_data_file),\n",
    "            unzip_dir=Path(config.unzip_dir)\n",
    "        )\n",
    "        \n",
    "        return data_ingestion_config\n",
    "\n",
    "   "
   ]
  },
  {
   "cell_type": "code",
   "execution_count": 20,
   "id": "e82ee1d3",
   "metadata": {},
   "outputs": [],
   "source": [
    "import os\n",
    "import urllib.request as request\n",
    "from zipfile import ZipFile\n",
    "from CNNClassifier.utils.common import get_size\n",
    "from CNNClassifier import logger"
   ]
  },
  {
   "cell_type": "code",
   "execution_count": 21,
   "id": "002d078f",
   "metadata": {},
   "outputs": [],
   "source": [
    "# Creating component for data ingestion\n",
    "class DataIngestion:\n",
    "    def __init__(self, config: DataIngestionConfig):\n",
    "        self.config = config\n",
    "\n",
    "    def download_file(self):\n",
    "        if not os.path.exists(self.config.local_data_file):\n",
    "            logger.info(f\"Downloading file from: {self.config.source_url} to {self.config.local_data_file}\")\n",
    "            filename, headers=request.urlretrieve(url=self.config.source_url, filename=self.config.local_data_file)\n",
    "            logger.info(f\"{filename} - File downloaded successfullywith following info :\\n{headers}\" )\n",
    "        else:\n",
    "            logger.info(f\"File already exists of size: {get_size(Path( self.config.local_data_file))}\")\n",
    "\n",
    "    def extract_zip_file(self):\n",
    "        \"\"\"\n",
    "        zip_file_path: str    The path to the zip file to be extracted.\n",
    "        Extracts the zip file to the specified directory.\n",
    "        Function returns None.\n",
    "        \"\"\"\n",
    "        if not os.path.exists(self.config.unzip_dir):\n",
    "            os.makedirs(self.config.unzip_dir)\n",
    "        with ZipFile(self.config.local_data_file, 'r') as zip_ref:\n",
    "            zip_ref.extractall(self.config.unzip_dir)\n",
    "            logger.info(f\"Extracted files to: {self.config.unzip_dir}\")\n",
    "\n",
    "    def initiate_data_ingestion(self):\n",
    "        self.download_file()\n",
    "        self.extract_zip_file()"
   ]
  },
  {
   "cell_type": "code",
   "execution_count": 22,
   "id": "9bb7b3de",
   "metadata": {},
   "outputs": [
    {
     "name": "stdout",
     "output_type": "stream",
     "text": [
      "[2025-07-24 11:50:44,533: INFO: common: yaml file: config\\config.yaml loaded successfully]\n",
      "{'artifacts_root': 'artifacts', 'data_ingestion': {'root_dir': 'artifacts/data_ingestion', 'source_url': 'https://github.com/entbappy/Branching-tutorial/raw/master/Chicken-fecal-images.zip', 'local_data_file': 'artifacts/data_ingestion/data.zip', 'unzip_dir': 'artifacts/data_ingestion'}}\n",
      "[2025-07-24 11:50:44,536: INFO: common: yaml file: params.yaml loaded successfully]\n",
      "{'key': 'value'}\n",
      "[2025-07-24 11:50:44,542: INFO: common: created directory at: artifacts]\n",
      "[2025-07-24 11:50:44,544: INFO: common: created directory at: artifacts/data_ingestion]\n",
      "[2025-07-24 11:50:44,544: ERROR: 2818875266: 'DataIngestionConfig' object is not callable]\n",
      "Traceback (most recent call last):\n",
      "  File \"C:\\Users\\Admin\\AppData\\Local\\Temp\\ipykernel_9252\\2818875266.py\", line 5, in <module>\n",
      "    data_ingestion_config = config.get_data_ingestion_config()\n",
      "  File \"C:\\Users\\Admin\\AppData\\Local\\Temp\\ipykernel_9252\\3466393105.py\", line 20, in get_data_ingestion_config\n",
      "    return data_ingestion_config(self)\n",
      "TypeError: 'DataIngestionConfig' object is not callable\n"
     ]
    },
    {
     "ename": "TypeError",
     "evalue": "'DataIngestionConfig' object is not callable",
     "output_type": "error",
     "traceback": [
      "\u001b[1;31m---------------------------------------------------------------------------\u001b[0m",
      "\u001b[1;31mTypeError\u001b[0m                                 Traceback (most recent call last)",
      "Cell \u001b[1;32mIn[22], line 10\u001b[0m\n\u001b[0;32m      8\u001b[0m \u001b[38;5;28;01mexcept\u001b[39;00m \u001b[38;5;167;01mException\u001b[39;00m \u001b[38;5;28;01mas\u001b[39;00m e:\n\u001b[0;32m      9\u001b[0m     logger\u001b[38;5;241m.\u001b[39mexception(e)\n\u001b[1;32m---> 10\u001b[0m     \u001b[38;5;28;01mraise\u001b[39;00m e\n",
      "Cell \u001b[1;32mIn[22], line 5\u001b[0m\n\u001b[0;32m      3\u001b[0m \u001b[38;5;28;01mtry\u001b[39;00m:\n\u001b[0;32m      4\u001b[0m     config \u001b[38;5;241m=\u001b[39m ConfigurationManager()\n\u001b[1;32m----> 5\u001b[0m     data_ingestion_config \u001b[38;5;241m=\u001b[39m \u001b[43mconfig\u001b[49m\u001b[38;5;241;43m.\u001b[39;49m\u001b[43mget_data_ingestion_config\u001b[49m\u001b[43m(\u001b[49m\u001b[43m)\u001b[49m\n\u001b[0;32m      6\u001b[0m     data_ingestion \u001b[38;5;241m=\u001b[39m DataIngestion(config\u001b[38;5;241m=\u001b[39mdata_ingestion_config)\n\u001b[0;32m      7\u001b[0m     data_ingestion\u001b[38;5;241m.\u001b[39minitiate_data_ingestion()\n",
      "Cell \u001b[1;32mIn[19], line 20\u001b[0m, in \u001b[0;36mConfigurationManager.get_data_ingestion_config\u001b[1;34m(self)\u001b[0m\n\u001b[0;32m     11\u001b[0m create_directories([config\u001b[38;5;241m.\u001b[39mroot_dir])\n\u001b[0;32m     13\u001b[0m data_ingestion_config \u001b[38;5;241m=\u001b[39m DataIngestionConfig(\n\u001b[0;32m     14\u001b[0m     root_dir\u001b[38;5;241m=\u001b[39mPath(config\u001b[38;5;241m.\u001b[39mroot_dir),\n\u001b[0;32m     15\u001b[0m     source_url\u001b[38;5;241m=\u001b[39mconfig\u001b[38;5;241m.\u001b[39msource_url,\n\u001b[0;32m     16\u001b[0m     local_data_file\u001b[38;5;241m=\u001b[39mPath(config\u001b[38;5;241m.\u001b[39mlocal_data_file),\n\u001b[0;32m     17\u001b[0m     unzip_dir\u001b[38;5;241m=\u001b[39mPath(config\u001b[38;5;241m.\u001b[39munzip_dir)\n\u001b[0;32m     18\u001b[0m )\n\u001b[1;32m---> 20\u001b[0m \u001b[38;5;28;01mreturn\u001b[39;00m \u001b[43mdata_ingestion_config\u001b[49m\u001b[43m(\u001b[49m\u001b[38;5;28;43mself\u001b[39;49m\u001b[43m)\u001b[49m\n",
      "\u001b[1;31mTypeError\u001b[0m: 'DataIngestionConfig' object is not callable"
     ]
    }
   ],
   "source": [
    "#create pipeline\n",
    "\n",
    "try:\n",
    "    config = ConfigurationManager()\n",
    "    data_ingestion_config = config.get_data_ingestion_config()\n",
    "    data_ingestion = DataIngestion(config=data_ingestion_config)\n",
    "    data_ingestion.initiate_data_ingestion()\n",
    "except Exception as e:\n",
    "    logger.exception(e)\n",
    "    raise e"
   ]
  },
  {
   "cell_type": "code",
   "execution_count": null,
   "id": "5c4cbc63",
   "metadata": {},
   "outputs": [],
   "source": []
  }
 ],
 "metadata": {
  "kernelspec": {
   "display_name": "myenv",
   "language": "python",
   "name": "python3"
  },
  "language_info": {
   "codemirror_mode": {
    "name": "ipython",
    "version": 3
   },
   "file_extension": ".py",
   "mimetype": "text/x-python",
   "name": "python",
   "nbconvert_exporter": "python",
   "pygments_lexer": "ipython3",
   "version": "3.10.0"
  }
 },
 "nbformat": 4,
 "nbformat_minor": 5
}
